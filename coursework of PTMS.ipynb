{
 "cells": [
  {
   "cell_type": "markdown",
   "metadata": {},
   "source": [
    "# 1 Постановка задачи"
   ]
  },
  {
   "cell_type": "markdown",
   "metadata": {},
   "source": [
    "Ниже представлена часть базы данных лабораторных исследований для группы контроля (группа сравнения) и трех типов заболеваний. Данные имеют шифровку, так как находятся на стадии сбора,анализа и еще не представлены в печати."
   ]
  },
  {
   "cell_type": "code",
   "execution_count": null,
   "metadata": {},
   "outputs": [],
   "source": []
  },
  {
   "cell_type": "markdown",
   "metadata": {},
   "source": [
    "# 2 Теоретическое описание\n",
    "2.1 В дисперсионном анализе проверяется гипотеза H0 о равенстве средних групповых значений количественного показателя: "
   ]
  },
  {
   "cell_type": "markdown",
   "metadata": {},
   "source": [
    "$$(H_0: \\overline{y}_1 = \\overline{y}_2 = ... = \\overline{y}_k).$$"
   ]
  },
  {
   "cell_type": "markdown",
   "metadata": {},
   "source": [
    "Чтобы проверить эту гипотезу, необходимо воспользоваться соотношением:"
   ]
  },
  {
   "cell_type": "markdown",
   "metadata": {},
   "source": [
    "$$F_H = \\frac{\\sigma_{F}^{2}}{\\sigma_{ост}^{2}}$$"
   ]
  },
  {
   "cell_type": "markdown",
   "metadata": {},
   "source": [
    "Если значение  FH  превышает  Fкрит  из таблицы критических точек распределения Фишера-Снедекора для заданного уровня\n",
    "\n",
    "значимости  α  двух степеней свободы  dfмежд=k−1  (относится к числителю соотношения) и  dfвнутр=n−k  (относится к знаменателю),\n",
    "\n",
    "то выборки имеют разные средние значения.\n",
    "\n",
    "2.2 T-критерий Стьюдента (t-критерий Стьюдента) - это тест статистической гипотезы, назван в честь псевдонима «Студент», который использовал Уильям Сили Госсет, разработавший тест. Этот тест проверяет средние значения по двум образцам, чтобы определить, существенно ли они отличаются. Это делается путем вычисления стандартной ошибки разницы между средними значениями. Наличие в двух выборках одного и того же среднего значения (нулевая гипотеза) можно интерпретировать как степень вероятности различия. Статистику t, вычисленную с помощью теста, можно объяснить путем сравнения с критическим значением распределения t. Степень свободы и уровень значимости процентильной функции (PPF) можно использовать для расчета критического значения."
   ]
  },
  {
   "cell_type": "code",
   "execution_count": null,
   "metadata": {},
   "outputs": [],
   "source": []
  },
  {
   "cell_type": "markdown",
   "metadata": {},
   "source": [
    "# 3 Практическая реализация\n",
    "3.1 Исходные данные загружаются из файла Excel, реализованы две функции:\n",
    "\n",
    "3.2 znachimost(a,b,c,d,p) - для оценки различия средних группы фактора a,b,c,d дисперсионным анализом с заданным уровнем значимости p;\n",
    "\n",
    "3.3 Student_pair(a,b,p) - для оценки различия средних значений факторов a,b критерием Стьюдента с заданным уровнем значимости p;"
   ]
  },
  {
   "cell_type": "code",
   "execution_count": 79,
   "metadata": {},
   "outputs": [],
   "source": [
    "#\n",
    "#  Подгружаем необходимые библиотеки\n",
    "#\n",
    "\n",
    "import numpy as np\n",
    "import pandas as pd\n",
    "import matplotlib.pyplot as plt\n",
    "import matplotlib.mlab as mlab\n",
    "import matplotlib\n",
    "from math import sqrt\n",
    "import scipy.stats as stats\n",
    "from matplotlib.pyplot import figure\n",
    "from scipy.stats import t\n",
    "%matplotlib inline\n",
    "matplotlib.rcParams['figure.figsize'] = (12,8)"
   ]
  },
  {
   "cell_type": "code",
   "execution_count": 80,
   "metadata": {},
   "outputs": [],
   "source": [
    "file = 'курсовая.xlsx'\n"
   ]
  },
  {
   "cell_type": "code",
   "execution_count": 81,
   "metadata": {},
   "outputs": [
    {
     "data": {
      "text/plain": [
       "<pandas.io.excel._base.ExcelFile at 0x1f194a616c8>"
      ]
     },
     "execution_count": 81,
     "metadata": {},
     "output_type": "execute_result"
    }
   ],
   "source": [
    "df = pd.ExcelFile(file)\n",
    "df"
   ]
  },
  {
   "cell_type": "code",
   "execution_count": 82,
   "metadata": {},
   "outputs": [
    {
     "name": "stdout",
     "output_type": "stream",
     "text": [
      "['Лист1', 'Лист2', 'Лист3']\n"
     ]
    }
   ],
   "source": [
    "print(df.sheet_names)"
   ]
  },
  {
   "cell_type": "code",
   "execution_count": 83,
   "metadata": {},
   "outputs": [],
   "source": [
    "df1 = df.parse('Лист1')"
   ]
  },
  {
   "cell_type": "code",
   "execution_count": 84,
   "metadata": {},
   "outputs": [
    {
     "data": {
      "text/html": [
       "<div>\n",
       "<style scoped>\n",
       "    .dataframe tbody tr th:only-of-type {\n",
       "        vertical-align: middle;\n",
       "    }\n",
       "\n",
       "    .dataframe tbody tr th {\n",
       "        vertical-align: top;\n",
       "    }\n",
       "\n",
       "    .dataframe thead th {\n",
       "        text-align: right;\n",
       "    }\n",
       "</style>\n",
       "<table border=\"1\" class=\"dataframe\">\n",
       "  <thead>\n",
       "    <tr style=\"text-align: right;\">\n",
       "      <th></th>\n",
       "      <th>V_k</th>\n",
       "      <th>T_k</th>\n",
       "      <th>V_f</th>\n",
       "      <th>T_f</th>\n",
       "      <th>V_m</th>\n",
       "      <th>T_m</th>\n",
       "      <th>V_h</th>\n",
       "      <th>T_h</th>\n",
       "    </tr>\n",
       "  </thead>\n",
       "  <tbody>\n",
       "    <tr>\n",
       "      <th>0</th>\n",
       "      <td>37.30</td>\n",
       "      <td>1.10</td>\n",
       "      <td>51.2</td>\n",
       "      <td>0.9</td>\n",
       "      <td>37.2</td>\n",
       "      <td>1.1</td>\n",
       "      <td>25.4</td>\n",
       "      <td>0.6</td>\n",
       "    </tr>\n",
       "    <tr>\n",
       "      <th>1</th>\n",
       "      <td>27.70</td>\n",
       "      <td>NaN</td>\n",
       "      <td>22.9</td>\n",
       "      <td>1.0</td>\n",
       "      <td>48.5</td>\n",
       "      <td>1.1</td>\n",
       "      <td>25.8</td>\n",
       "      <td>1.1</td>\n",
       "    </tr>\n",
       "    <tr>\n",
       "      <th>2</th>\n",
       "      <td>17.45</td>\n",
       "      <td>1.25</td>\n",
       "      <td>54.3</td>\n",
       "      <td>1.1</td>\n",
       "      <td>32.5</td>\n",
       "      <td>1.2</td>\n",
       "      <td>44.9</td>\n",
       "      <td>1.1</td>\n",
       "    </tr>\n",
       "    <tr>\n",
       "      <th>3</th>\n",
       "      <td>33.00</td>\n",
       "      <td>1.20</td>\n",
       "      <td>11.0</td>\n",
       "      <td>0.9</td>\n",
       "      <td>33.4</td>\n",
       "      <td>1.3</td>\n",
       "      <td>17.5</td>\n",
       "      <td>1.2</td>\n",
       "    </tr>\n",
       "    <tr>\n",
       "      <th>4</th>\n",
       "      <td>27.10</td>\n",
       "      <td>1.30</td>\n",
       "      <td>82.9</td>\n",
       "      <td>1.0</td>\n",
       "      <td>54.1</td>\n",
       "      <td>1.2</td>\n",
       "      <td>23.4</td>\n",
       "      <td>1.2</td>\n",
       "    </tr>\n",
       "    <tr>\n",
       "      <th>...</th>\n",
       "      <td>...</td>\n",
       "      <td>...</td>\n",
       "      <td>...</td>\n",
       "      <td>...</td>\n",
       "      <td>...</td>\n",
       "      <td>...</td>\n",
       "      <td>...</td>\n",
       "      <td>...</td>\n",
       "    </tr>\n",
       "    <tr>\n",
       "      <th>77</th>\n",
       "      <td>NaN</td>\n",
       "      <td>NaN</td>\n",
       "      <td>NaN</td>\n",
       "      <td>NaN</td>\n",
       "      <td>31.1</td>\n",
       "      <td>1.2</td>\n",
       "      <td>NaN</td>\n",
       "      <td>NaN</td>\n",
       "    </tr>\n",
       "    <tr>\n",
       "      <th>78</th>\n",
       "      <td>NaN</td>\n",
       "      <td>NaN</td>\n",
       "      <td>NaN</td>\n",
       "      <td>NaN</td>\n",
       "      <td>34.3</td>\n",
       "      <td>1.0</td>\n",
       "      <td>NaN</td>\n",
       "      <td>NaN</td>\n",
       "    </tr>\n",
       "    <tr>\n",
       "      <th>79</th>\n",
       "      <td>NaN</td>\n",
       "      <td>NaN</td>\n",
       "      <td>NaN</td>\n",
       "      <td>NaN</td>\n",
       "      <td>48.8</td>\n",
       "      <td>1.0</td>\n",
       "      <td>NaN</td>\n",
       "      <td>NaN</td>\n",
       "    </tr>\n",
       "    <tr>\n",
       "      <th>80</th>\n",
       "      <td>NaN</td>\n",
       "      <td>NaN</td>\n",
       "      <td>NaN</td>\n",
       "      <td>NaN</td>\n",
       "      <td>31.6</td>\n",
       "      <td>0.8</td>\n",
       "      <td>NaN</td>\n",
       "      <td>NaN</td>\n",
       "    </tr>\n",
       "    <tr>\n",
       "      <th>81</th>\n",
       "      <td>NaN</td>\n",
       "      <td>NaN</td>\n",
       "      <td>NaN</td>\n",
       "      <td>NaN</td>\n",
       "      <td>30.9</td>\n",
       "      <td>1.2</td>\n",
       "      <td>NaN</td>\n",
       "      <td>NaN</td>\n",
       "    </tr>\n",
       "  </tbody>\n",
       "</table>\n",
       "<p>82 rows × 8 columns</p>\n",
       "</div>"
      ],
      "text/plain": [
       "      V_k   T_k   V_f  T_f   V_m  T_m   V_h  T_h\n",
       "0   37.30  1.10  51.2  0.9  37.2  1.1  25.4  0.6\n",
       "1   27.70   NaN  22.9  1.0  48.5  1.1  25.8  1.1\n",
       "2   17.45  1.25  54.3  1.1  32.5  1.2  44.9  1.1\n",
       "3   33.00  1.20  11.0  0.9  33.4  1.3  17.5  1.2\n",
       "4   27.10  1.30  82.9  1.0  54.1  1.2  23.4  1.2\n",
       "..    ...   ...   ...  ...   ...  ...   ...  ...\n",
       "77    NaN   NaN   NaN  NaN  31.1  1.2   NaN  NaN\n",
       "78    NaN   NaN   NaN  NaN  34.3  1.0   NaN  NaN\n",
       "79    NaN   NaN   NaN  NaN  48.8  1.0   NaN  NaN\n",
       "80    NaN   NaN   NaN  NaN  31.6  0.8   NaN  NaN\n",
       "81    NaN   NaN   NaN  NaN  30.9  1.2   NaN  NaN\n",
       "\n",
       "[82 rows x 8 columns]"
      ]
     },
     "execution_count": 84,
     "metadata": {},
     "output_type": "execute_result"
    }
   ],
   "source": [
    "df1"
   ]
  },
  {
   "cell_type": "code",
   "execution_count": 85,
   "metadata": {},
   "outputs": [
    {
     "data": {
      "text/html": [
       "<div>\n",
       "<style scoped>\n",
       "    .dataframe tbody tr th:only-of-type {\n",
       "        vertical-align: middle;\n",
       "    }\n",
       "\n",
       "    .dataframe tbody tr th {\n",
       "        vertical-align: top;\n",
       "    }\n",
       "\n",
       "    .dataframe thead th {\n",
       "        text-align: right;\n",
       "    }\n",
       "</style>\n",
       "<table border=\"1\" class=\"dataframe\">\n",
       "  <thead>\n",
       "    <tr style=\"text-align: right;\">\n",
       "      <th></th>\n",
       "      <th>V_k</th>\n",
       "      <th>T_k</th>\n",
       "      <th>V_f</th>\n",
       "      <th>T_f</th>\n",
       "      <th>V_m</th>\n",
       "      <th>T_m</th>\n",
       "      <th>V_h</th>\n",
       "      <th>T_h</th>\n",
       "    </tr>\n",
       "  </thead>\n",
       "  <tbody>\n",
       "    <tr>\n",
       "      <th>count</th>\n",
       "      <td>39.000000</td>\n",
       "      <td>39.000000</td>\n",
       "      <td>53.000000</td>\n",
       "      <td>53.000000</td>\n",
       "      <td>82.000000</td>\n",
       "      <td>81.000000</td>\n",
       "      <td>11.000000</td>\n",
       "      <td>11.000000</td>\n",
       "    </tr>\n",
       "    <tr>\n",
       "      <th>mean</th>\n",
       "      <td>29.988718</td>\n",
       "      <td>1.112821</td>\n",
       "      <td>46.533585</td>\n",
       "      <td>1.048113</td>\n",
       "      <td>37.638780</td>\n",
       "      <td>1.035185</td>\n",
       "      <td>28.209091</td>\n",
       "      <td>1.036364</td>\n",
       "    </tr>\n",
       "    <tr>\n",
       "      <th>std</th>\n",
       "      <td>5.209283</td>\n",
       "      <td>0.192189</td>\n",
       "      <td>14.336361</td>\n",
       "      <td>0.170959</td>\n",
       "      <td>10.543005</td>\n",
       "      <td>0.133568</td>\n",
       "      <td>8.197372</td>\n",
       "      <td>0.185864</td>\n",
       "    </tr>\n",
       "    <tr>\n",
       "      <th>min</th>\n",
       "      <td>17.450000</td>\n",
       "      <td>0.800000</td>\n",
       "      <td>11.000000</td>\n",
       "      <td>0.600000</td>\n",
       "      <td>21.200000</td>\n",
       "      <td>0.800000</td>\n",
       "      <td>17.500000</td>\n",
       "      <td>0.600000</td>\n",
       "    </tr>\n",
       "    <tr>\n",
       "      <th>25%</th>\n",
       "      <td>27.380000</td>\n",
       "      <td>1.000000</td>\n",
       "      <td>36.150000</td>\n",
       "      <td>0.950000</td>\n",
       "      <td>30.125000</td>\n",
       "      <td>0.900000</td>\n",
       "      <td>23.300000</td>\n",
       "      <td>1.000000</td>\n",
       "    </tr>\n",
       "    <tr>\n",
       "      <th>50%</th>\n",
       "      <td>30.300000</td>\n",
       "      <td>1.050000</td>\n",
       "      <td>43.700000</td>\n",
       "      <td>1.000000</td>\n",
       "      <td>34.350000</td>\n",
       "      <td>1.000000</td>\n",
       "      <td>25.800000</td>\n",
       "      <td>1.000000</td>\n",
       "    </tr>\n",
       "    <tr>\n",
       "      <th>75%</th>\n",
       "      <td>32.535000</td>\n",
       "      <td>1.225000</td>\n",
       "      <td>56.600000</td>\n",
       "      <td>1.150000</td>\n",
       "      <td>42.325000</td>\n",
       "      <td>1.100000</td>\n",
       "      <td>31.950000</td>\n",
       "      <td>1.150000</td>\n",
       "    </tr>\n",
       "    <tr>\n",
       "      <th>max</th>\n",
       "      <td>45.100000</td>\n",
       "      <td>1.650000</td>\n",
       "      <td>82.900000</td>\n",
       "      <td>1.600000</td>\n",
       "      <td>69.600000</td>\n",
       "      <td>1.300000</td>\n",
       "      <td>44.900000</td>\n",
       "      <td>1.300000</td>\n",
       "    </tr>\n",
       "  </tbody>\n",
       "</table>\n",
       "</div>"
      ],
      "text/plain": [
       "             V_k        T_k        V_f        T_f        V_m        T_m  \\\n",
       "count  39.000000  39.000000  53.000000  53.000000  82.000000  81.000000   \n",
       "mean   29.988718   1.112821  46.533585   1.048113  37.638780   1.035185   \n",
       "std     5.209283   0.192189  14.336361   0.170959  10.543005   0.133568   \n",
       "min    17.450000   0.800000  11.000000   0.600000  21.200000   0.800000   \n",
       "25%    27.380000   1.000000  36.150000   0.950000  30.125000   0.900000   \n",
       "50%    30.300000   1.050000  43.700000   1.000000  34.350000   1.000000   \n",
       "75%    32.535000   1.225000  56.600000   1.150000  42.325000   1.100000   \n",
       "max    45.100000   1.650000  82.900000   1.600000  69.600000   1.300000   \n",
       "\n",
       "             V_h        T_h  \n",
       "count  11.000000  11.000000  \n",
       "mean   28.209091   1.036364  \n",
       "std     8.197372   0.185864  \n",
       "min    17.500000   0.600000  \n",
       "25%    23.300000   1.000000  \n",
       "50%    25.800000   1.000000  \n",
       "75%    31.950000   1.150000  \n",
       "max    44.900000   1.300000  "
      ]
     },
     "execution_count": 85,
     "metadata": {},
     "output_type": "execute_result"
    }
   ],
   "source": [
    "df1.describe()"
   ]
  },
  {
   "cell_type": "code",
   "execution_count": 86,
   "metadata": {},
   "outputs": [],
   "source": [
    "V_k = np.array(df1['V_k'],dtype=np.float64)\n",
    "V_k = V_k[np. isfinite(V_k)]"
   ]
  },
  {
   "cell_type": "code",
   "execution_count": 87,
   "metadata": {},
   "outputs": [],
   "source": [
    "V_f = np.array(df1['V_f'],dtype=np.float64)\n",
    "V_f = V_f[np. isfinite(V_f)]"
   ]
  },
  {
   "cell_type": "code",
   "execution_count": 88,
   "metadata": {},
   "outputs": [],
   "source": [
    "V_m = np.array(df1['V_m'],dtype=np.float64)\n",
    "V_m = V_m[np. isfinite(V_m)]"
   ]
  },
  {
   "cell_type": "code",
   "execution_count": 89,
   "metadata": {},
   "outputs": [],
   "source": [
    "V_h = np.array(df1['V_h'],dtype=np.float64)\n",
    "V_h = V_h[np. isfinite(V_h)]"
   ]
  },
  {
   "cell_type": "markdown",
   "metadata": {},
   "source": [
    "Анализ начинаем с параметра V. Строим дот-плоты распределения данных, среднее и отклонение от среднего получено ранее встроенными командами Python, ищем статистически значимые различия между группами."
   ]
  },
  {
   "cell_type": "code",
   "execution_count": 90,
   "metadata": {
    "scrolled": false
   },
   "outputs": [
    {
     "data": {
      "text/plain": [
       "Text(0, 0.5, 'Vi,um/min')"
      ]
     },
     "execution_count": 90,
     "metadata": {},
     "output_type": "execute_result"
    },
    {
     "data": {
      "image/png": "[encoded data removed]",
      "text/plain": [
       "<Figure size 864x576 with 1 Axes>"
      ]
     },
     "metadata": {
      "needs_background": "light"
     },
     "output_type": "display_data"
    }
   ],
   "source": [
    "df1.boxplot(column=['V_k','V_f', 'V_m','V_h'])  \n",
    "plt.ylim(0,100)\n",
    "plt.title('Parametr V', fontsize=16, fontweight=\"bold\")\n",
    "plt.xlabel('Points',fontsize=12)\n",
    "plt.ylabel('Vi,um/min',fontsize=12)\n",
    "\n"
   ]
  },
  {
   "cell_type": "markdown",
   "metadata": {},
   "source": [
    "На графике представлены dot-plots контрольной группы и групп сравнения для параметра Т (Т_к и Т_f, T_m, T_h, соответственно)"
   ]
  },
  {
   "cell_type": "code",
   "execution_count": 76,
   "metadata": {},
   "outputs": [],
   "source": [
    "def znachimost(a,b,c,d,p):\n",
    "#\n",
    "#   a,b,c,d - исследуемые величины   ; p - уровень значимости\n",
    "#   Проведение однофакторный дисперсионный анализ для определения различия средних величин a b c d  с заданным уровнем p\n",
    "#\n",
    "    e = np.concatenate([a, b,c,d])\n",
    "    n_a = a.shape[0]\n",
    "    n_b = b.shape[0]\n",
    "    n_c = c.shape[0]\n",
    "    n_d = d.shape[0]\n",
    "#\n",
    "#    Средние значения для каждой из величин на входе\n",
    "#\n",
    "    a_mean = a.mean()\n",
    "    b_mean = b.mean()\n",
    "    c_mean = c.mean()    \n",
    "    d_mean = d.mean()\n",
    "    e_mean = e.mean()\n",
    "#\n",
    "#   Оценим критерии\n",
    "#\n",
    "\n",
    "    S2_F = n_a * (a_mean - e_mean) ** 2 + n_b * (b_mean - e_mean) ** 2 + n_c*(c_mean - e_mean) ** 2 + n_d*(d_mean - e_mean) ** 2\n",
    "    S2_res = ((a - a_mean) ** 2).sum() + ((b - b_mean) ** 2).sum()+ ((c - c_mean) ** 2).sum() + ((d - d_mean) ** 2).sum()\n",
    "    \n",
    "    k = 4\n",
    "    n = n_a + n_b + n_c + n_d\n",
    "    \n",
    "    k1 = k - 1\n",
    "    k2 = n - k\n",
    "#\n",
    "#   Найдем общую дисперсию:\n",
    "#\n",
    "    sigma2_F = S2_F / k1\n",
    "#\n",
    "#   Найдем выборочную дисперсию\n",
    "#\n",
    "    sigma2_res= S2_res / k2\n",
    "#   \n",
    "    T = sigma2_F/sigma2_res\n",
    "    F = stats.f.ppf(1 - p, k1, k2)\n",
    "#\n",
    "#   Если T>F, то средние значения различны (True) c заданным уровнем значимости\n",
    "#\n",
    "    return (T>F)\n",
    "\n",
    "\n",
    "\n",
    "\n",
    "def Student_pair(a,b,p):\n",
    "#\n",
    "#   Оценка статистики двух независимых выборок по критерию Стьюдента    \n",
    "#    a,b,- исследуемые величины   ; p - уровень значимости\n",
    "#   \n",
    "#    e = np.concatenate([a, b])\n",
    "    n_a = a.shape[0]\n",
    "    n_b = b.shape[0]\n",
    "\n",
    "    a_mean = a.mean()\n",
    "    b_mean = b.mean()\n",
    "\n",
    "   \n",
    "    S2_a = ((a - a_mean) ** 2).sum()/(n_a - 1)\n",
    "    S2_b = ((b - b_mean) ** 2).sum()/ (n_b-1)\n",
    "#\n",
    "#  вычисляем абсолютное значение тестовой статистики и \n",
    "#  сравниваем его с положительным (правым) критическим значением, как показано ниже:\n",
    "#\n",
    "\n",
    "    t_stat= abs(a_mean-b_mean)/sqrt(S2_a/n_a+S2_b/n_b)\n",
    "    \n",
    "    cv = t.ppf(1.0 - p, n_a+n_b-2)\n",
    "    p_est = (1.0 - t.cdf(abs(t_stat), n_a+n_b-2))*2.0\n",
    "#\n",
    "#   Если p_est<p, то средние значения различны (True) c заданным уровнем значимости\n",
    "#\n",
    "    \n",
    "    return (p_est<p)\n",
    "\n"
   ]
  },
  {
   "cell_type": "markdown",
   "metadata": {},
   "source": [
    "# Результаты оценок"
   ]
  },
  {
   "cell_type": "code",
   "execution_count": 15,
   "metadata": {},
   "outputs": [
    {
     "data": {
      "text/plain": [
       "True"
      ]
     },
     "execution_count": 15,
     "metadata": {},
     "output_type": "execute_result"
    }
   ],
   "source": [
    "znachimost(V_f,V_k,V_m,V_h,0.05)"
   ]
  },
  {
   "cell_type": "markdown",
   "metadata": {},
   "source": [
    "- Методом дисперсионного анализа установлены, что факторы V_f,V_k,V_m,V_h с уровнем значимости 0.05 статистически значимо различаются"
   ]
  },
  {
   "cell_type": "code",
   "execution_count": 17,
   "metadata": {},
   "outputs": [
    {
     "data": {
      "text/plain": [
       "False"
      ]
     },
     "execution_count": 17,
     "metadata": {},
     "output_type": "execute_result"
    }
   ],
   "source": [
    "Student_pair(V_k,V_h,0.05)"
   ]
  },
  {
   "cell_type": "markdown",
   "metadata": {},
   "source": [
    "- Т.е факторы V_k и V_h с уровнем значимости 0.05 статистически достоверно не отличаются ;\n",
    "\n"
   ]
  },
  {
   "cell_type": "code",
   "execution_count": 18,
   "metadata": {},
   "outputs": [
    {
     "data": {
      "text/plain": [
       "True"
      ]
     },
     "execution_count": 18,
     "metadata": {},
     "output_type": "execute_result"
    }
   ],
   "source": [
    "Student_pair(V_k,V_m,0.05)"
   ]
  },
  {
   "cell_type": "markdown",
   "metadata": {},
   "source": [
    " - Т.е факторы V_k и V_m с уровнем значимости 0.05 статистически значимо отличаются;"
   ]
  },
  {
   "cell_type": "code",
   "execution_count": 19,
   "metadata": {},
   "outputs": [
    {
     "data": {
      "text/plain": [
       "True"
      ]
     },
     "execution_count": 19,
     "metadata": {},
     "output_type": "execute_result"
    }
   ],
   "source": [
    "Student_pair(V_k,V_f,0.05)"
   ]
  },
  {
   "cell_type": "markdown",
   "metadata": {},
   "source": [
    "  - Т.е факторы V_k и V_f с уровнем значимости 0.05 статистически значимо отличаются"
   ]
  },
  {
   "cell_type": "code",
   "execution_count": 20,
   "metadata": {},
   "outputs": [
    {
     "data": {
      "text/plain": [
       "True"
      ]
     },
     "execution_count": 20,
     "metadata": {},
     "output_type": "execute_result"
    }
   ],
   "source": [
    "Student_pair(V_m,V_f,0.05)"
   ]
  },
  {
   "cell_type": "markdown",
   "metadata": {},
   "source": [
    "- Т.е факторы V_m и V_f с уровнем значимости 0.05 имеют статистически достоверное отличие"
   ]
  },
  {
   "cell_type": "code",
   "execution_count": 94,
   "metadata": {},
   "outputs": [
    {
     "data": {
      "text/plain": [
       "True"
      ]
     },
     "execution_count": 94,
     "metadata": {},
     "output_type": "execute_result"
    }
   ],
   "source": [
    "Student_pair(V_h,V_f,0.05)"
   ]
  },
  {
   "cell_type": "markdown",
   "metadata": {},
   "source": [
    "- Т.е факторы V_h и V_f с уровнем значимости 0.05 имеют статистически достоверное отличие"
   ]
  },
  {
   "cell_type": "code",
   "execution_count": 95,
   "metadata": {},
   "outputs": [
    {
     "data": {
      "text/plain": [
       "True"
      ]
     },
     "execution_count": 95,
     "metadata": {},
     "output_type": "execute_result"
    }
   ],
   "source": [
    "Student_pair(V_m,V_h,0.05)"
   ]
  },
  {
   "cell_type": "markdown",
   "metadata": {},
   "source": [
    "- Т.е факторы V_m и V_h с уровнем значимости 0.05 имеют статистически достоверное отличие"
   ]
  },
  {
   "cell_type": "markdown",
   "metadata": {},
   "source": []
  },
  {
   "cell_type": "markdown",
   "metadata": {},
   "source": [
    "Аналогично параметру V, проводится анализ для параметра Т."
   ]
  },
  {
   "cell_type": "code",
   "execution_count": 75,
   "metadata": {},
   "outputs": [
    {
     "data": {
      "text/plain": [
       "Text(0, 0.5, 'T,min')"
      ]
     },
     "execution_count": 75,
     "metadata": {},
     "output_type": "execute_result"
    },
    {
     "data": {
      "image/png": "[encoded data removed]",
      "text/plain": [
       "<Figure size 864x576 with 1 Axes>"
      ]
     },
     "metadata": {
      "needs_background": "light"
     },
     "output_type": "display_data"
    }
   ],
   "source": [
    "df1.boxplot(column=['T_k','T_f', 'T_m','T_h'])  \n",
    "plt.ylim(0,2)\n",
    "plt.title('Parametr T', fontsize=16, fontweight=\"bold\")\n",
    "plt.xlabel('Points',fontsize=12)\n",
    "plt.ylabel('T,min',fontsize=12)\n"
   ]
  },
  {
   "cell_type": "markdown",
   "metadata": {},
   "source": [
    "На графике представлены dot-plots контрольной группы и групп сравнения для параметра Т (Т_к и Т_f, T_m, T_h, соответственно)"
   ]
  },
  {
   "cell_type": "code",
   "execution_count": 91,
   "metadata": {},
   "outputs": [],
   "source": [
    "T_k = np.array(df1['T_k'],dtype=np.float64)\n",
    "T_k = T_k[np. isfinite(T_k)]\n",
    "T_f = np.array(df1['T_f'],dtype=np.float64)\n",
    "T_f = T_f[np. isfinite(T_f)]\n",
    "T_m = np.array(df1['T_m'],dtype=np.float64)\n",
    "T_m = T_m[np. isfinite(T_m)]\n",
    "T_h = np.array(df1['T_h'],dtype=np.float64)\n",
    "T_h = T_h[np. isfinite(T_h)]"
   ]
  },
  {
   "cell_type": "code",
   "execution_count": 92,
   "metadata": {},
   "outputs": [
    {
     "data": {
      "text/plain": [
       "False"
      ]
     },
     "execution_count": 92,
     "metadata": {},
     "output_type": "execute_result"
    }
   ],
   "source": [
    "znachimost(T_f,T_k,T_m,T_h,0.05)"
   ]
  },
  {
   "cell_type": "markdown",
   "metadata": {},
   "source": [
    "- Методом дисперсионного анализа установлены, что факторы T_f,T_k,T_m,T_h с уровнем значимости 0.05 статистически значимо не различаются"
   ]
  },
  {
   "cell_type": "code",
   "execution_count": 96,
   "metadata": {},
   "outputs": [
    {
     "data": {
      "text/plain": [
       "True"
      ]
     },
     "execution_count": 96,
     "metadata": {},
     "output_type": "execute_result"
    }
   ],
   "source": [
    "Student_pair(T_k,T_m,0.05)"
   ]
  },
  {
   "cell_type": "markdown",
   "metadata": {},
   "source": [
    "- Т.е факторы T_m и T_k с уровнем значимости 0.05 имеют статистически достоверное отличие"
   ]
  },
  {
   "cell_type": "code",
   "execution_count": 37,
   "metadata": {},
   "outputs": [
    {
     "data": {
      "text/plain": [
       "False"
      ]
     },
     "execution_count": 37,
     "metadata": {},
     "output_type": "execute_result"
    }
   ],
   "source": [
    "Student_pair(T_k,T_h,0.05)"
   ]
  },
  {
   "cell_type": "markdown",
   "metadata": {},
   "source": [
    "- Т.е факторы T_k и T_h с уровнем значимости 0.05 не имеют статистически достоверное отличие"
   ]
  },
  {
   "cell_type": "code",
   "execution_count": 38,
   "metadata": {},
   "outputs": [
    {
     "data": {
      "text/plain": [
       "False"
      ]
     },
     "execution_count": 38,
     "metadata": {},
     "output_type": "execute_result"
    }
   ],
   "source": [
    "Student_pair(T_k,T_f,0.05)"
   ]
  },
  {
   "cell_type": "markdown",
   "metadata": {},
   "source": [
    "- Т.е факторы T_k и T_f с уровнем значимости 0.05  статистически достоверно не отличаются"
   ]
  },
  {
   "cell_type": "code",
   "execution_count": 78,
   "metadata": {},
   "outputs": [
    {
     "data": {
      "text/plain": [
       "False"
      ]
     },
     "execution_count": 78,
     "metadata": {},
     "output_type": "execute_result"
    }
   ],
   "source": [
    "Student_pair(T_m,T_f,0.05)"
   ]
  },
  {
   "cell_type": "code",
   "execution_count": null,
   "metadata": {},
   "outputs": [],
   "source": [
    "- Т.е факторы T_m и T_f с уровнем значимости 0.05  статистически достоверно не отличаются"
   ]
  },
  {
   "cell_type": "code",
   "execution_count": 97,
   "metadata": {},
   "outputs": [
    {
     "data": {
      "text/plain": [
       "False"
      ]
     },
     "execution_count": 97,
     "metadata": {},
     "output_type": "execute_result"
    }
   ],
   "source": [
    "Student_pair(T_h,T_f,0.05)"
   ]
  },
  {
   "cell_type": "markdown",
   "metadata": {},
   "source": [
    "- Т.е факторы T_h и T_f с уровнем значимости 0.05  статистически достоверно не отличаются"
   ]
  },
  {
   "cell_type": "code",
   "execution_count": 98,
   "metadata": {},
   "outputs": [
    {
     "data": {
      "text/plain": [
       "False"
      ]
     },
     "execution_count": 98,
     "metadata": {},
     "output_type": "execute_result"
    }
   ],
   "source": [
    "Student_pair(T_m,T_h,0.05)"
   ]
  },
  {
   "cell_type": "markdown",
   "metadata": {},
   "source": [
    "- Т.е факторы T_h и T_m с уровнем значимости 0.05  статистически достоверно не отличаются"
   ]
  },
  {
   "cell_type": "code",
   "execution_count": null,
   "metadata": {},
   "outputs": [],
   "source": []
  }
 ],
 "metadata": {
  "kernelspec": {
   "display_name": "Python 3",
   "language": "python",
   "name": "python3"
  },
  "language_info": {
   "codemirror_mode": {
    "name": "ipython",
    "version": 3
   },
   "file_extension": ".py",
   "mimetype": "text/x-python",
   "name": "python",
   "nbconvert_exporter": "python",
   "pygments_lexer": "ipython3",
   "version": "3.7.6"
  }
 },
 "nbformat": 4,
 "nbformat_minor": 4
}
